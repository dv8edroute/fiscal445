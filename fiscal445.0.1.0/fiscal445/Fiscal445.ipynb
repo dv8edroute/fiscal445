{
 "cells": [
  {
   "cell_type": "code",
   "execution_count": 1,
   "metadata": {},
   "outputs": [],
   "source": [
    "# Author: Dv8edRoute\n",
    "# Email: dv8edroute@protonmail.com\n",
    "# Version 1.0.1\n",
    "# License: MIT\n",
    "\n",
    "import pandas as pd\n",
    "import numpy as np\n",
    "import datetime\n",
    "import calendar\n",
    "from datetime import timedelta  \n"
   ]
  },
  {
   "cell_type": "code",
   "execution_count": 2,
   "metadata": {},
   "outputs": [],
   "source": [
    "x = np.datetime64('today','s')\n",
    "#x = np.datetime64('2025-03-17','s')\n",
    "current = np.datetime64(np.datetime_as_string(x)[:10])"
   ]
  },
  {
   "cell_type": "code",
   "execution_count": 3,
   "metadata": {},
   "outputs": [],
   "source": [
    "def set_445_cal(begin_year,week_ending):\n",
    "    lst = begin_year.split('-')\n",
    "    year = lst[0]\n",
    "    month = lst[1]\n",
    "    day = lst[2]\n",
    "    week_ending = str(week_ending.upper())\n",
    "    desired_month = int(month)\n",
    "    year_start = f'{year}-{month}-{day}'\n",
    "    \n",
    "    weeks = []\n",
    "    four = [1,2,3,4]\n",
    "    five = [1,2,3,4,5]\n",
    "    count = 1\n",
    "    for _ in range(0,12):\n",
    "        if count in [3,6,9,12]:\n",
    "            weeks.extend(five)\n",
    "            count += 1\n",
    "        else:\n",
    "            weeks.extend(four)\n",
    "            count += 1\n",
    "\n",
    "    \n",
    "    cur_year = pd.Series(pd.date_range(year_start, periods=52, freq=f'W-{week_ending}'))\n",
    "    \n",
    "\n",
    "    # Get list of Months\n",
    "\n",
    "    def get_month_list(mon_choice, day):\n",
    "        if int(day) >= 10:\n",
    "            mon_choice = mon_choice +1\n",
    "        mlst = [1,2,3,4,5,6,7,8,9,10,11,12]\n",
    "        if mon_choice == 1:\n",
    "            mon_choice = mlst\n",
    "        else:\n",
    "            mon_choice = mon_choice -1\n",
    "            lst = mlst[mlst.index(mon_choice)+1:]\n",
    "            lst.extend(mlst[:mon_choice])\n",
    "            mon_choice = lst\n",
    "\n",
    "\n",
    "        mon = []\n",
    "        for i in mon_choice:\n",
    "            y = calendar.month_name[i]\n",
    "            mon.append(y)\n",
    "        multipliers = [4,4,5,4,4,5,4,4,5,4,4,5]\n",
    "        mon = [x for x, multipliers in zip(mon, multipliers) for _ in range(multipliers)]\n",
    "        return mon\n",
    "\n",
    "    mon = get_month_list(desired_month, day)\n",
    "\n",
    "\n",
    "\n",
    "    newlist = [cur_year,weeks,mon]\n",
    "    \n",
    "    x = np.datetime64(year_start,'s')\n",
    "    yr_start = np.datetime64(np.datetime_as_string(x)[:10])\n",
    "\n",
    "    df = pd.DataFrame()\n",
    "    df = df.append({\"week_ending\" : yr_start , \"fiscal_week\" : 'Start',\"fiscal_month\": 'Start' }, ignore_index=True)\n",
    "    for x in range(0,52):\n",
    "        line_item = [item[x] for item in newlist]\n",
    "        temp =pd.DataFrame([line_item],columns=[\"week_ending\", \"fiscal_week\", \"fiscal_month\"])\n",
    "        df = df.append(temp, ignore_index=True)\n",
    "    #df.index.name = 'week_num'\n",
    "    return df"
   ]
  },
  {
   "cell_type": "code",
   "execution_count": 4,
   "metadata": {},
   "outputs": [],
   "source": [
    "cal = set_445_cal('2020-02-02','sat')"
   ]
  },
  {
   "cell_type": "code",
   "execution_count": 5,
   "metadata": {},
   "outputs": [],
   "source": [
    "def week_of_month():\n",
    "    return cal.loc[cal['week_ending'] >= current, 'fiscal_week'].head(1).item()\n",
    "\n",
    "#week_of_month()"
   ]
  },
  {
   "cell_type": "code",
   "execution_count": 6,
   "metadata": {},
   "outputs": [
    {
     "data": {
      "text/plain": [
       "5"
      ]
     },
     "execution_count": 6,
     "metadata": {},
     "output_type": "execute_result"
    }
   ],
   "source": [
    "def cur_fiscal_week_of_year():\n",
    "    return cal.index[cal['week_ending'] >= current].tolist()[0]\n",
    "cur_fiscal_week_of_year()"
   ]
  },
  {
   "cell_type": "code",
   "execution_count": 7,
   "metadata": {},
   "outputs": [
    {
     "data": {
      "text/plain": [
       "'March'"
      ]
     },
     "execution_count": 7,
     "metadata": {},
     "output_type": "execute_result"
    }
   ],
   "source": [
    "def cur_fiscal_month():\n",
    "    return cal.loc[cal['week_ending'] >= current, 'fiscal_month'].head(1).item()\n",
    "cur_fiscal_month()"
   ]
  },
  {
   "cell_type": "code",
   "execution_count": 15,
   "metadata": {},
   "outputs": [
    {
     "data": {
      "text/plain": [
       "('2020-03-01', '2020-03-07')"
      ]
     },
     "execution_count": 15,
     "metadata": {},
     "output_type": "execute_result"
    }
   ],
   "source": [
    "def month_to_date():\n",
    "    idx = cal.index[cal['week_ending'] >= current].tolist()[0]\n",
    "    week_pos = cal.loc[cal['week_ending'] >= current, 'fiscal_week'].tolist()[0]\n",
    "    new_idx = idx - week_pos\n",
    "    beginning = cal.loc[new_idx, 'week_ending'] + timedelta(days=1)\n",
    "    beginning = beginning.strftime(\"%Y-%m-%d\")\n",
    "    end = current \n",
    "    return str(beginning),str(end)\n",
    "\n",
    "\n",
    "#function returns a list of start of month to current date\n",
    "#start_end = month_to_date()\n",
    "month_to_date()\n",
    "\n",
    "#start_end"
   ]
  },
  {
   "cell_type": "code",
   "execution_count": 9,
   "metadata": {},
   "outputs": [
    {
     "data": {
      "text/plain": [
       "'Not available yet!'"
      ]
     },
     "execution_count": 9,
     "metadata": {},
     "output_type": "execute_result"
    }
   ],
   "source": [
    "def month_to_date_completed():\n",
    "    idx = cal.index[cal['week_ending'] >= current].tolist()[0]\n",
    "    week_pos = cal.loc[cal['week_ending'] >= current, 'fiscal_week'].tolist()[0]\n",
    "    new_idx = idx - week_pos\n",
    "    beginning = cal.loc[new_idx, 'week_ending'] + timedelta(days=1)\n",
    "    beginning = beginning.strftime(\"%Y-%m-%d\")\n",
    "    end = cal.loc[cal['week_ending'] < current, 'week_ending'].tolist()[-1]\n",
    "    end = end.strftime(\"%Y-%m-%d\")\n",
    "    if end < beginning:\n",
    "        return 'Not available yet!'\n",
    "        \n",
    "    return str(beginning),str(end)\n",
    "\n",
    "\n",
    "#function returns a list of start of month to current date\n",
    "month_to_date_completed()\n",
    "\n"
   ]
  },
  {
   "cell_type": "code",
   "execution_count": 10,
   "metadata": {},
   "outputs": [
    {
     "data": {
      "text/plain": [
       "('2020-02-02', '2020-03-07')"
      ]
     },
     "execution_count": 10,
     "metadata": {},
     "output_type": "execute_result"
    }
   ],
   "source": [
    "def year_to_date():\n",
    "    beginning = cal.loc[0,'week_ending']\n",
    "    beginning = beginning.strftime(\"%Y-%m-%d\")\n",
    "    end = current \n",
    "    return str(beginning),str(end)\n",
    "\n",
    "\n",
    "#function returns a list of start of year to current date\n",
    "year_to_date()\n",
    "\n",
    "\n",
    "\n"
   ]
  },
  {
   "cell_type": "code",
   "execution_count": 11,
   "metadata": {},
   "outputs": [
    {
     "data": {
      "text/plain": [
       "('2020-02-02', '2020-02-29')"
      ]
     },
     "execution_count": 11,
     "metadata": {},
     "output_type": "execute_result"
    }
   ],
   "source": [
    "def year_to_date_completed():\n",
    "    beginning = cal.loc[0,'week_ending']\n",
    "    beginning = beginning.strftime(\"%Y-%m-%d\")\n",
    "    end = cal.loc[cal['week_ending'] < current, 'week_ending'].tolist()[-1]\n",
    "    end = end.strftime(\"%Y-%m-%d\")\n",
    "    return str(beginning),str(end)\n",
    "\n",
    "\n",
    "#function returns a list of start of year to most recent complete date\n",
    "#start_end_comp = month_to_date_completed()\n",
    "\n",
    "year_to_date_completed()"
   ]
  },
  {
   "cell_type": "code",
   "execution_count": null,
   "metadata": {},
   "outputs": [],
   "source": []
  },
  {
   "cell_type": "code",
   "execution_count": null,
   "metadata": {},
   "outputs": [],
   "source": []
  },
  {
   "cell_type": "code",
   "execution_count": null,
   "metadata": {},
   "outputs": [],
   "source": []
  },
  {
   "cell_type": "code",
   "execution_count": 12,
   "metadata": {},
   "outputs": [],
   "source": [
    "cal.to_csv('test/test_df.csv', header=True, index=False)"
   ]
  },
  {
   "cell_type": "code",
   "execution_count": null,
   "metadata": {},
   "outputs": [],
   "source": []
  }
 ],
 "metadata": {
  "kernelspec": {
   "display_name": "Python 3.8.1 64-bit",
   "language": "python",
   "name": "python38164bit2e96107a75c4498dac08febaf0e15a76"
  },
  "language_info": {
   "codemirror_mode": {
    "name": "ipython",
    "version": 3
   },
   "file_extension": ".py",
   "mimetype": "text/x-python",
   "name": "python",
   "nbconvert_exporter": "python",
   "pygments_lexer": "ipython3",
   "version": "3.8.1"
  }
 },
 "nbformat": 4,
 "nbformat_minor": 4
}
